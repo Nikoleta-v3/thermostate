{
 "cells": [
  {
   "cell_type": "markdown",
   "metadata": {},
   "source": [
    "# Diesel Cycle Example\n",
    "\n",
    "## Imports"
   ]
  },
  {
   "cell_type": "code",
   "execution_count": null,
   "metadata": {},
   "outputs": [],
   "source": [
    "from thermostate import State, Q_, units\n",
    "%matplotlib inline\n",
    "import matplotlib.pyplot as plt\n",
    "from numpy import arange"
   ]
  },
  {
   "cell_type": "markdown",
   "metadata": {},
   "source": [
    "---\n",
    "\n",
    "## Definitions"
   ]
  },
  {
   "cell_type": "code",
   "execution_count": null,
   "metadata": {},
   "outputs": [],
   "source": [
    "substance = 'air'\n",
    "T_1 = Q_(25.0, 'degC')\n",
    "p_1 = Q_(95.0, 'kPa')\n",
    "V_1 = Q_(3.0, 'L')\n",
    "r = Q_(18.0, 'dimensionless')\n",
    "r_c = Q_(3.0, 'dimensionless')\n",
    "rpm = Q_(1700.0, 'rpm')\n",
    "n_C = Q_(4, 'dimensionless')\n",
    "units.define('cycle = 2*revolution')  # Define a four-stroke cycle\n",
    "r_c_low = Q_(1.1, 'dimensionless')\n",
    "r_c_high = Q_(4.5, 'dimensionless')"
   ]
  },
  {
   "cell_type": "markdown",
   "metadata": {},
   "source": [
    "---\n",
    "\n",
    "## Problem Statement"
   ]
  },
  {
   "cell_type": "markdown",
   "metadata": {},
   "source": [
    "A four-cylinder Diesel engine has a BDC volume of 3.0 L per cylinder. The engine operates on the air-standard Diesel cycle with a compression ratio of 18.0  and a cutoff ratio of 3.0 . Air is at 25.0 celsius and 95.0 kPa at the beginning of the compression process. Determine\n",
    "\n",
    "1. the amount of power delivered by the engine, in kW, at 1700.0 rpm\n",
    "2. the thermal efficiency\n",
    "3. plot the power output as a function of the cutoff ratio, with values for $r_c$ from 1.1  to 4.5 , holding all other given values constant\n",
    "4. plot the thermal efficiency as a function of the cutoff ratio, with values for $r_c$ from 1.1  to 4.5 , holding all other given values constant"
   ]
  },
  {
   "cell_type": "markdown",
   "metadata": {},
   "source": [
    "---\n",
    "\n",
    "## Solution"
   ]
  },
  {
   "cell_type": "markdown",
   "metadata": {},
   "source": [
    "### 1. the power delivered"
   ]
  },
  {
   "cell_type": "markdown",
   "metadata": {
    "collapsed": true
   },
   "source": [
    "The power output can be found by taking the product of the net work per cylinder, the number of cylinders, and the net work per revolution\n",
    "\n",
    "$$\\dot{W}_{net} = n_C \\frac{N}{2} W_{net}$$\n",
    "\n",
    "First, we need to fix the four states. State 1 uses $p$ and $T$, state 2 uses $s$ and $v$, state 3 uses $p$ and $v$, and state 4 uses $v$ and $s$. We need to calculate the mass of air in one cylinder using the ideal gas law\n",
    "\n",
    "$$m = \\frac{pV}{RT}$$\n",
    "\n",
    "where $R=\\overline{R}/MW$ is the gas-specific constant."
   ]
  },
  {
   "cell_type": "code",
   "execution_count": null,
   "metadata": {},
   "outputs": [],
   "source": [
    "MW_air = Q_(28.97, 'kg/kmol')\n",
    "R = units.molar_gas_constant/MW_air\n",
    "m = (p_1*V_1/(R*T_1)).to('mg')\n",
    "\n",
    "v_1 = (V_1/m).to('m**3/kg')\n",
    "st_1 = State(substance, p=p_1, T=T_1)\n",
    "s_1 = st_1.s.to('kJ/(kg*K)')\n",
    "u_1 = st_1.u.to('kJ/kg')\n",
    "\n",
    "v_2 = v_1/r\n",
    "s_2 = s_1\n",
    "st_2 = State(substance, v=v_2, s=s_2)\n",
    "T_2 = st_2.T\n",
    "p_2 = st_2.p.to('kPa')\n",
    "u_2 = st_2.u.to('kJ/kg')\n",
    "\n",
    "v_3 = r_c*v_2\n",
    "p_3 = p_2\n",
    "st_3 = State(substance, p=p_3, v=v_3)\n",
    "T_3 = st_3.T\n",
    "s_3 = st_3.s.to('kJ/(kg*K)')\n",
    "u_3 = st_3.u.to('kJ/kg')\n",
    "\n",
    "s_4 = s_3\n",
    "v_4 = v_1\n",
    "st_4 = State(substance, v=v_4, s=s_4)\n",
    "T_4 = st_4.T\n",
    "p_4 = st_4.p.to('kPa')\n",
    "u_4 = st_4.u.to('kJ/kg')"
   ]
  },
  {
   "cell_type": "markdown",
   "metadata": {},
   "source": [
    "The mass of air in one cylinder is $m =$ 3330.61 mg. Summarizing the states:\n",
    "\n",
    "| State |             T             |             p             |             u             |             v             |             s             |\n",
    "|-------|---------------------------|---------------------------|---------------------------|---------------------------|---------------------------|\n",
    "|     1 | 298.15 K | 95.00 kPa | 338.89 kJ/kg | 0.90 m<sup>3</sup>/kg | 3.90 kJ/(K kg) |\n",
    "|     2 | 900.45 K | 5256.76 kPa | 799.36 kJ/kg | 0.05 m<sup>3</sup>/kg | 3.90 kJ/(K kg) |\n",
    "|     3 | 2730.75 K | 5256.76 kPa | 2522.03 kJ/kg | 0.15 m<sup>3</sup>/kg | 5.25 kJ/(K kg) |\n",
    "|     4 | 1602.36 K | 511.21 kPa | 1426.75 kJ/kg | 0.90 m<sup>3</sup>/kg | 5.25 kJ/(K kg) |\n"
   ]
  },
  {
   "cell_type": "code",
   "execution_count": null,
   "metadata": {},
   "outputs": [],
   "source": [
    "W_12 = (m*(u_1 - u_2)).to('kJ')\n",
    "W_23 = (m*p_2*(v_3 - v_2)).to('kJ')\n",
    "W_34 = (m*(u_3 - u_4)).to('kJ')\n",
    "\n",
    "W_net = W_12 + W_23 + W_34\n",
    "\n",
    "Q_23 = (m*(u_3 - u_2) + W_23).to('kJ')\n",
    "Q_41 = (m*(u_1 - u_4)).to('kJ')"
   ]
  },
  {
   "cell_type": "markdown",
   "metadata": {},
   "source": [
    "Summarizing the energy transfers,\n",
    "\n",
    "|     Process       |            Work            |       Heat Transfer        |\n",
    "|-------------------|----------------------------|----------------------------|\n",
    "| 1 $\\rightarrow$ 2 | -1.53 kJ | 0.0 kJ                     |\n",
    "| 2 $\\rightarrow$ 3 | 1.75 kJ | 7.49 kJ |\n",
    "| 3 $\\rightarrow$ 4 | 3.65 kJ | 0.0 kJ                     |\n",
    "| 4 $\\rightarrow$ 1 | 0.0 kJ                     | -3.62 kJ |\n",
    "\n",
    "and the net work output per cylinder per cycle is $W_{net} =$ 3.87 kJ. Then, calculating the power output"
   ]
  },
  {
   "cell_type": "code",
   "execution_count": null,
   "metadata": {},
   "outputs": [],
   "source": [
    "Wdot_net = (n_C*rpm*W_net/units.cycle).to('kW')"
   ]
  },
  {
   "cell_type": "markdown",
   "metadata": {},
   "source": [
    "<div class=\"alert alert-success\">\n",
    "\n",
    "**Answer:** The net power output is $\\dot{W}_{net} =$ 219.10 kW\n",
    "\n",
    "</div>"
   ]
  },
  {
   "cell_type": "markdown",
   "metadata": {},
   "source": [
    "### 2. the thermal efficiency"
   ]
  },
  {
   "cell_type": "code",
   "execution_count": null,
   "metadata": {},
   "outputs": [],
   "source": [
    "eta = W_net/Q_23"
   ]
  },
  {
   "cell_type": "markdown",
   "metadata": {},
   "source": [
    "<div class=\"alert alert-success\">\n",
    "\n",
    "**Answer:** The thermal efficiency is $\\eta =$ 0.52  = 51.62% \n",
    "\n",
    "</div>"
   ]
  },
  {
   "cell_type": "markdown",
   "metadata": {},
   "source": [
    "### 3. plot the net power output as a function of $r_c$"
   ]
  },
  {
   "cell_type": "markdown",
   "metadata": {},
   "source": [
    "For this part (and the next one), only states 3 and 4 are changed by changing the cutoff ratio. Therefore, we only re-compute those states, and the associated work and heat transfer values, in the following loop."
   ]
  },
  {
   "cell_type": "code",
   "execution_count": null,
   "metadata": {},
   "outputs": [],
   "source": [
    "eta_l = []\n",
    "Wdot_net_l = []\n",
    "r_c_l = arange(r_c_low.magnitude, r_c_high.magnitude+0.1, 0.1)\n",
    "for r_c in r_c_l:\n",
    "    v_3 = r_c*v_2\n",
    "    p_3 = p_2\n",
    "    st_3 = State(substance, p=p_3, v=v_3)\n",
    "    s_3 = st_3.s.to('kJ/(kg*K)')\n",
    "    u_3 = st_3.u.to('kJ/kg')\n",
    "\n",
    "    s_4 = s_3\n",
    "    v_4 = v_1\n",
    "    st_4 = State(substance, v=v_4, s=s_4)\n",
    "    u_4 = st_4.u.to('kJ/kg')\n",
    "\n",
    "    W_23 = (m*p_2*(v_3 - v_2)).to('kJ')\n",
    "    W_34 = (m*(u_3 - u_4)).to('kJ')\n",
    "\n",
    "    W_net = W_12 + W_23 + W_34\n",
    "    Wdot_net = (n_C*rpm*W_net/units.cycle).to('kW')\n",
    "    Wdot_net_l.append(Wdot_net.magnitude)\n",
    "\n",
    "    Q_23 = (m*(u_3 - u_2) + W_23).to('kJ')\n",
    "    eta = W_net/Q_23\n",
    "    eta_l.append(eta.magnitude)"
   ]
  },
  {
   "cell_type": "code",
   "execution_count": null,
   "metadata": {},
   "outputs": [],
   "source": [
    "plt.figure()\n",
    "plt.plot(r_c_l, Wdot_net_l, label='$\\dot{W}_{net}$')\n",
    "plt.legend(loc='best')\n",
    "plt.title('$\\dot{W}_{net}$ vs. $r_c$')\n",
    "plt.xlabel('$r_c$ ($v_3/v_2$)')\n",
    "plt.ylabel('$\\dot{W}_{net}$ (kW)');"
   ]
  },
  {
   "cell_type": "markdown",
   "metadata": {},
   "source": [
    "### 4. plot $\\eta$ vs. $r_c$"
   ]
  },
  {
   "cell_type": "code",
   "execution_count": null,
   "metadata": {},
   "outputs": [],
   "source": [
    "plt.figure()\n",
    "plt.plot(r_c_l, eta_l, label='$\\eta$')\n",
    "plt.legend(loc='best')\n",
    "plt.title('$\\eta$ vs. $r_c$')\n",
    "plt.xlabel('$r_c$ ($v_3/v_2$)')\n",
    "plt.ylabel('$\\eta$');"
   ]
  },
  {
   "cell_type": "markdown",
   "metadata": {},
   "source": [
    "From these graphs, we note that as the cutoff ratio increases, the power delivered increases but the thermal efficiency decreases."
   ]
  }
 ],
 "metadata": {
  "anaconda-cloud": {},
  "kernelspec": {
   "display_name": "Python 3",
   "language": "python",
   "name": "python3"
  },
  "language_info": {
   "codemirror_mode": {
    "name": "ipython",
    "version": 3
   },
   "file_extension": ".py",
   "mimetype": "text/x-python",
   "name": "python",
   "nbconvert_exporter": "python",
   "pygments_lexer": "ipython3",
   "version": "3.7.0"
  }
 },
 "nbformat": 4,
 "nbformat_minor": 2
}
