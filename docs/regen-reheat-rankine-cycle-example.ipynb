{
 "cells": [
  {
   "cell_type": "markdown",
   "metadata": {},
   "source": [
    "# Regen-Reheat Rankine Cycle Example\n",
    "\n",
    "## Imports"
   ]
  },
  {
   "cell_type": "code",
   "execution_count": null,
   "metadata": {},
   "outputs": [],
   "source": [
    "from thermostate import State, Q_, units, SystemInternational as SI"
   ]
  },
  {
   "cell_type": "markdown",
   "metadata": {},
   "source": [
    "---\n",
    "\n",
    "## Definitions"
   ]
  },
  {
   "cell_type": "code",
   "execution_count": null,
   "metadata": {},
   "outputs": [],
   "source": [
    "substance = 'water'\n",
    "T_1 = Q_(480.0, 'degC')\n",
    "p_1 = Q_(12.0, 'MPa')\n",
    "p_2 = Q_(2.0, 'MPa')\n",
    "p_3 = p_2\n",
    "T_3 = Q_(440.0, 'degC')\n",
    "p_4 = p_7 = p_8 = p_12 = Q_(0.3, 'MPa')\n",
    "p_5 = Q_(6.0, 'kPa')\n",
    "x_6 = Q_(0.0, 'dimensionless')\n",
    "x_8 = Q_(0.0, 'dimensionless')\n",
    "p_10 = Q_(12.0, 'MPa')\n",
    "T_10 = Q_(210.0, 'degC')\n",
    "x_11 = Q_(0.0, 'dimensionless')\n",
    "p_11 = p_2"
   ]
  },
  {
   "cell_type": "markdown",
   "metadata": {},
   "source": [
    "---\n",
    "\n",
    "## Problem Statement"
   ]
  },
  {
   "cell_type": "markdown",
   "metadata": {},
   "source": [
    "Consider a regenerative vapor power cycle with two feedwater heaters, a closed one and an open one, and reheat. Steam enters the first turbine stage at 12.0 MPa, 480.0 celsius, and expands to 2.0 MPa. Some steam is extracted at 2.0 MPa and bled to the closed feedwater heater. The remainder is reheated at 2.0 MPa to 440.0 celsius and then expands through the second stage turbine, where an additional amount of steam is extracted and bled into the open feedwater heater operating at 0.3 MPa. The steam expanding through the third stage turbine exits at the condenser pressure of 6.0 kPa, and the steam exits the condenser as a saturated liquid at 6.0 kPa. Feedwater leaves the closed heater at 210.0 celsius, 12.0 MPa, and condensate exiting as saturated liquid at 2.0 MPa is trapped into the open feedwater heater. Saturated liquid at 0.3 MPa leaves the open feedwater heater. Assume all pumps and turbine stages operate isentropically. Determine for the cycle\n",
    "\n",
    "1. the heat transfer to the working fluid passing through the steam generator and reheater, in kJ per kg of steam entering the first stage turbine\n",
    "2. the thermal efficiency\n",
    "3. the heat transfer from the working fluid passing through the condenser to the cooling water, in kJ per kg of steam entering the first stage turbine"
   ]
  },
  {
   "cell_type": "markdown",
   "metadata": {},
   "source": [
    "---\n",
    "\n",
    "## Solution"
   ]
  },
  {
   "cell_type": "markdown",
   "metadata": {},
   "source": [
    "### 1. the heat transfer in the steam generator and reheater"
   ]
  },
  {
   "cell_type": "markdown",
   "metadata": {},
   "source": [
    "The heat transfer can be found by drawing a control volume around the boiler/steam generator, including the reheat portion. Then, the first law reduces to\n",
    "\n",
    "\\begin{align*}\n",
    "\\dot{Q}_{in} &= \\dot{m}_1\\left(h_1 - h_{10}\\right) + \\dot{m}_3\\left(h_3 - h_2\\right) \\\\\n",
    "\\frac{\\dot{Q}_{in}}{\\dot{m}_1} &= \\left(h_1 - h_{10}\\right) + \\left(1 - y'\\right)\\left(h_3 - h_2\\right)\n",
    "\\end{align*}\n",
    "\n",
    "where $y'$ is the fraction of the flow extracted to the closed feedwater heater. To find the value of $y'$, we draw a control volume around the closed feedwater heater and solve for $y'$\n",
    "\n",
    "\\begin{align*}\n",
    "y' = \\frac{h_{10} - h_9}{h_2 - h_{11}}\n",
    "\\end{align*}\n",
    "\n",
    "First, fix the values for all the states using given information."
   ]
  },
  {
   "cell_type": "code",
   "execution_count": null,
   "metadata": {},
   "outputs": [],
   "source": [
    "# State 1\n",
    "st_1 = State(substance, T=T_1, p=p_1)\n",
    "h_1 = st_1.h.to(SI.h)\n",
    "s_1 = st_1.s.to(SI.s)\n",
    "\n",
    "# State 2\n",
    "s_2 = s_1\n",
    "st_2 = State(substance, p=p_2, s=s_2)\n",
    "h_2 = st_2.h.to(SI.h)\n",
    "T_2 = st_2.T.to(SI.T)\n",
    "x_2 = st_2.x\n",
    "\n",
    "# State 3\n",
    "st_3 = State(substance, p=p_3, T=T_3)\n",
    "h_3 = st_3.h.to(SI.h)\n",
    "s_3 = st_3.s.to(SI.s)\n",
    "\n",
    "# State 4\n",
    "s_4 = s_3\n",
    "st_4 = State(substance, p=p_4, s=s_4)\n",
    "h_4 = st_4.h.to(SI.h)\n",
    "T_4 = st_4.T.to(SI.T)\n",
    "x_4 = st_4.x\n",
    "\n",
    "# State 5\n",
    "s_5 = s_4\n",
    "st_5 = State(substance, p=p_5, s=s_5)\n",
    "h_5 = st_5.h.to(SI.h)\n",
    "T_5 = st_5.T.to(SI.T)\n",
    "x_5 = st_5.x\n",
    "\n",
    "# State 6\n",
    "p_6 = p_5\n",
    "st_6 = State(substance, p=p_6, x=x_6)\n",
    "h_6 = st_6.h.to(SI.h)\n",
    "s_6 = st_6.s.to(SI.s)\n",
    "T_6 = st_6.T.to(SI.T)\n",
    "\n",
    "# State 7\n",
    "s_7 = s_6\n",
    "st_7 = State(substance, p=p_7, s=s_7)\n",
    "h_7 = st_7.h.to(SI.h)\n",
    "T_7 = st_7.T.to(SI.T)\n",
    "\n",
    "# State 8\n",
    "st_8 = State(substance, p=p_8, x=x_8)\n",
    "h_8 = st_8.h.to(SI.h)\n",
    "s_8 = st_8.s.to(SI.s)\n",
    "T_8 = st_8.T.to(SI.T)\n",
    "\n",
    "# State 9\n",
    "s_9 = s_8\n",
    "p_9 = p_10\n",
    "st_9 = State(substance, p=p_9, s=s_9)\n",
    "h_9 = st_9.h.to(SI.h)\n",
    "T_9 = st_9.T.to(SI.T)\n",
    "\n",
    "# State 10\n",
    "st_10 = State(substance, p=p_10, T=T_10)\n",
    "h_10 = st_10.h.to(SI.h)\n",
    "s_10 = st_10.s.to(SI.s)\n",
    "\n",
    "# State 11\n",
    "st_11 = State(substance, p=p_11, x=x_11)\n",
    "h_11 = st_11.h.to(SI.h)\n",
    "s_11 = st_11.s.to(SI.s)\n",
    "T_11 = st_11.T.to(SI.T)\n",
    "\n",
    "# State 12\n",
    "h_12 = h_11\n",
    "st_12 = State(substance, p=p_12, h=h_12)\n",
    "s_12 = st_12.s.to(SI.s)\n",
    "T_12 = st_12.T.to(SI.T)\n",
    "x_12 = st_12.x"
   ]
  },
  {
   "cell_type": "markdown",
   "metadata": {},
   "source": [
    "Summarizing the states,\n",
    "\n",
    "| State |                T                |                p                |                h                |                s                |               x                 |      phase      |\n",
    "|-------|---------------------------------|---------------------------------|---------------------------------|---------------------------------|---------------------------------|-----------------|\n",
    "|     1 | 480.00 celsius  | 12.00 MPa  | 3295.29 kJ/kg  | 6.4186 kJ/(K kg)  | ---                             | supercritical  |\n",
    "|     2 | 225.46 celsius  | 2.00 MPa  | 2837.44 kJ/kg  | 6.4186 kJ/(K kg)  | ---                             | gas  |\n",
    "|     3 | 440.00 celsius  | 2.00 MPa  | 3336.25 kJ/kg  | 7.2560 kJ/(K kg)  | ---                             | supercritical  |\n",
    "|     4 | 187.07 celsius  | 0.30 MPa  | 2839.24 kJ/kg  | 7.2560 kJ/(K kg)  | ---                             | gas  |\n",
    "|     5 | 36.16 celsius  | 6.00 kPa  | 2234.74 kJ/kg  | 7.2560 kJ/(K kg)  | 86.26%  | twophase  |\n",
    "|     6 | 36.16 celsius  | 6.00 kPa  | 151.48 kJ/kg  | 0.5208 kJ/(K kg)  | 0.00%  | twophase  |\n",
    "|     7 | 36.17 celsius  | 0.30 MPa  | 151.77 kJ/kg  | 0.5208 kJ/(K kg)  | ---                             | liquid  |\n",
    "|     8 | 133.52 celsius  | 0.30 MPa  | 561.43 kJ/kg  | 1.6717 kJ/(K kg)  | 0.00%  | twophase  |\n",
    "|     9 | 134.62 celsius  | 12.00 MPa  | 573.95 kJ/kg  | 1.6717 kJ/(K kg)  | ---                             | liquid  |\n",
    "|    10 | 210.00 celsius | 12.00 MPa | 901.29 kJ/kg | 2.4077 kJ/(K kg) | ---                             | liquid |\n",
    "|    11 | 212.38 celsius | 2.00 MPa | 908.50 kJ/kg | 2.4468 kJ/(K kg) | 0.00% | twophase |\n",
    "|    12 | 133.52 celsius | 0.30 MPa | 908.50 kJ/kg | 2.5252 kJ/(K kg) | 16.04% | twophase |\n"
   ]
  },
  {
   "cell_type": "code",
   "execution_count": null,
   "metadata": {},
   "outputs": [],
   "source": [
    "y_p = (h_10 - h_9)/(h_2 - h_11)\n",
    "Qdot_in = (h_1 - h_10 + (1 - y_p)*(h_3 - h_2)).to('kJ/kg')"
   ]
  },
  {
   "cell_type": "markdown",
   "metadata": {},
   "source": [
    "<div class=\"alert alert-success\">\n",
    "\n",
    "**Answer:** The heat transfer input is $\\dot{Q}_{in}/\\dot{m} =$ 2808.15 kJ/kg\n",
    "\n",
    "</div>"
   ]
  },
  {
   "cell_type": "markdown",
   "metadata": {},
   "source": [
    "### 2. the thermal efficiency"
   ]
  },
  {
   "cell_type": "markdown",
   "metadata": {},
   "source": [
    "To find the thermal efficiency, we need to calculate the net work output of the power plant. This involves all three turbine stages and both of the pump stages. First, we need to calculate the mass fractions of the flow, $y'$ and $y''$. To find these values, we need to draw control volumes around the feedwater heaters, moving from high pressure to low pressure. $y'$ has already been found, so we need to find $y''$\n",
    "\n",
    "\\begin{align*}\n",
    "0 &= \\dot{m}_7 h_7 + \\dot{m}_{12} h_{12} + \\dot{m}_{4} h_4 - \\dot{m}_8 h_8\n",
    "\\end{align*}\n",
    "\n",
    "Dividing through by $\\dot{m}_1$ and noting that $\\dot{m}_8 = \\dot{m}_1$, $\\dot{m}_{12} = \\dot{m}_2$, and $\\dot{m}_7 = \\dot{m}_5$,\n",
    "\n",
    "\\begin{align*}\n",
    "0 &= (1 - y' - y'')h_7 + y' h_{12} + y'' h_4 - h_8 \\\\\n",
    "y'' &= \\frac{h_8 - h_7 + y'(h_7 - h_{12})}{h_4 - h_7}\n",
    "\\end{align*}"
   ]
  },
  {
   "cell_type": "code",
   "execution_count": null,
   "metadata": {},
   "outputs": [],
   "source": [
    "y_pp = (h_8 - h_7 + y_p*(h_7 - h_12))/(h_4 - h_7)"
   ]
  },
  {
   "cell_type": "markdown",
   "metadata": {},
   "source": [
    "Now, for the turbine stages,\n",
    "\n",
    "\\begin{align*}\n",
    "\\dot{W}_t &= \\dot{m}_1(h_1 - h_2) + \\dot{m}_3 (h_3 - h_4) + \\dot{m}_5 (h_4 - h_5) \\\\\n",
    "\\frac{\\dot{W}_t}{\\dot{m}_1} &= h_1 - h_2 + (1 - y')(h_3 - h_4) + (1 - y' - y'')(h_4 - h_5)\n",
    "\\end{align*}"
   ]
  },
  {
   "cell_type": "code",
   "execution_count": null,
   "metadata": {},
   "outputs": [],
   "source": [
    "Wdot_t = h_1 - h_2 + (1 - y_p)*(h_3 - h_4) + (1 - y_p - y_pp)*(h_4 - h_5)"
   ]
  },
  {
   "cell_type": "markdown",
   "metadata": {},
   "source": [
    "and for the pump stages\n",
    "\n",
    "\\begin{align*}\n",
    "\\dot{W}_p &= \\dot{m}_6(h_6 - h_7) + \\dot{m}_8(h_8 - h_9) \\\\\n",
    "\\frac{\\dot{W}_p}{\\dot{m}_1} &= (1 - y' - y'')(h_6 - h_7) + h_8 - h_9\n",
    "\\end{align*}"
   ]
  },
  {
   "cell_type": "code",
   "execution_count": null,
   "metadata": {},
   "outputs": [],
   "source": [
    "Wdot_p = (1 - y_p - y_pp)*(h_6 - h_7) + h_8 - h_9\n",
    "eta = ((Wdot_t + Wdot_p)/Qdot_in).to('dimensionless')"
   ]
  },
  {
   "cell_type": "markdown",
   "metadata": {},
   "source": [
    "<div class=\"alert alert-success\">\n",
    "\n",
    "**Answer:** The thermal efficiency of the cycle is $\\eta =$ 0.4617 = 46.17%\n",
    "\n",
    "</div>"
   ]
  },
  {
   "cell_type": "markdown",
   "metadata": {},
   "source": [
    "### 3. the rate of heat transfer out of the condenser into the cooling water"
   ]
  },
  {
   "cell_type": "markdown",
   "metadata": {},
   "source": [
    "Drawing a control volume around the condenser, we can find the rate of heat transfer as\n",
    "\n",
    "\\begin{align*}\n",
    "\\dot{Q}_{out} &= \\dot{m}_5(h_6 - h_5) \\\\\n",
    "\\frac{\\dot{Q}_{out}}{\\dot{m}_1} &= (1 - y' - y'') (h_6 - h_5)\n",
    "\\end{align*}"
   ]
  },
  {
   "cell_type": "code",
   "execution_count": null,
   "metadata": {},
   "outputs": [],
   "source": [
    "Qdot_out = (1 - y_p - y_pp)*(h_6 - h_5).to('kJ/kg')"
   ]
  },
  {
   "cell_type": "markdown",
   "metadata": {},
   "source": [
    "<div class=\"alert alert-success\">\n",
    "\n",
    "**Answer:** The rate of heat transfer is $\\dot{Q}_{out}/\\dot{m}_1 =$ -1511.72 kJ/kg\n",
    "\n",
    "</div>"
   ]
  }
 ],
 "metadata": {
  "kernelspec": {
   "display_name": "Python 3",
   "language": "python",
   "name": "python3"
  },
  "language_info": {
   "codemirror_mode": {
    "name": "ipython",
    "version": 3
   },
   "file_extension": ".py",
   "mimetype": "text/x-python",
   "name": "python",
   "nbconvert_exporter": "python",
   "pygments_lexer": "ipython3",
   "version": "3.7.0"
  }
 },
 "nbformat": 4,
 "nbformat_minor": 2
}
